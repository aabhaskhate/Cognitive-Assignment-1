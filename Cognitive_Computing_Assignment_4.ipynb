{
  "nbformat": 4,
  "nbformat_minor": 0,
  "metadata": {
    "colab": {
      "provenance": []
    },
    "kernelspec": {
      "name": "python3",
      "display_name": "Python 3"
    },
    "language_info": {
      "name": "python"
    }
  },
  "cells": [
    {
      "cell_type": "markdown",
      "source": [
        "Q.1 Write a program to create a NumPy 1D-array with 5 elements and perform basic\n",
        "operations like:\n",
        "\n",
        "a) Addition of 2 in all the element\n",
        "\n",
        "b) Multiply 3 with all the elements\n",
        "\n",
        "c) Divide every element by 2"
      ],
      "metadata": {
        "id": "k4_nYEzy58qd"
      }
    },
    {
      "cell_type": "code",
      "source": [
        "import numpy as np\n",
        "\n",
        "#create an array\n",
        "arr = np.array([1,2,3,4,5])\n",
        "print(arr)\n",
        "\n",
        "#add 2 to each element\n",
        "add = arr+2\n",
        "print(add)\n",
        "\n",
        "#multiply 3 with each  element\n",
        "mul = arr*3\n",
        "print(mul)\n",
        "\n",
        "#divide each element by 2\n",
        "div = arr/2\n",
        "print(div)"
      ],
      "metadata": {
        "colab": {
          "base_uri": "https://localhost:8080/"
        },
        "id": "tA62qPDO6Fjm",
        "outputId": "d5ffc9fa-7c5a-4cb3-c287-779ced4b0c9e"
      },
      "execution_count": null,
      "outputs": [
        {
          "output_type": "stream",
          "name": "stdout",
          "text": [
            "[1 2 3 4 5]\n",
            "[3 4 5 6 7]\n",
            "[ 3  6  9 12 15]\n",
            "[0.5 1.  1.5 2.  2.5]\n"
          ]
        }
      ]
    },
    {
      "cell_type": "markdown",
      "source": [
        "Q.2 Questions on Basic NumPy Array:\n",
        "\n",
        "a) Reverse the NumPy array: arr = np.array([1, 2, 3, 6, 4, 5])\n",
        "\n",
        "b) Find the most frequent value and their indice(s) in the following arrays:\n",
        "\n",
        "i. x = np.array([1,2,3,4,5,1,2,1,1,1])\n",
        "\n",
        "ii. y = np.array([1, 1, 1, 2, 3, 4, 2, 4, 3, 3, ])\n",
        "\n"
      ],
      "metadata": {
        "id": "dSj7m-Xy69t-"
      }
    },
    {
      "cell_type": "code",
      "source": [
        "import numpy as np\n",
        "\n",
        "#reverse array\n",
        "arr = np.array([1,2,3,6,4,5])\n",
        "arr = arr[::-1]\n",
        "print(arr)\n",
        "\n",
        "#most frequent value\n",
        "x = np.array([1,2,3,4,5,1,2,1,1,1])\n",
        "y = np.array([1,1,1,2,3,4,2,4,3,3])\n",
        "print(np.bincount(x).argmax(), np.bincount(y).argmax())"
      ],
      "metadata": {
        "colab": {
          "base_uri": "https://localhost:8080/"
        },
        "id": "3GFmXUCy7WRH",
        "outputId": "696400d2-ad67-4c7a-9dd0-d5d511b67e93"
      },
      "execution_count": 1,
      "outputs": [
        {
          "output_type": "stream",
          "name": "stdout",
          "text": [
            "[5 4 6 3 2 1]\n",
            "1 1\n"
          ]
        }
      ]
    },
    {
      "cell_type": "markdown",
      "source": [
        "Q.3 For the given 2-D array arr=np.array([10, 20, 30], [40, 50, 60], [70, 80, 90]), access\n",
        "elements using row and column indices as follows:\n",
        "\n",
        "a) Access 1st row, 2nd column\n",
        "\n",
        "b) Access 3rd row, 1st column\n"
      ],
      "metadata": {
        "id": "mD_Lxo437pg_"
      }
    },
    {
      "cell_type": "code",
      "source": [
        "import numpy as np\n",
        "\n",
        "arr = np.array([[10,20,30],[40,50,60],[70,80,90]])\n",
        "\n",
        "#1st row, 2nd col\n",
        "print(arr[0][1])\n",
        "\n",
        "#3rd row, 1st col\n",
        "print(arr[2][0])"
      ],
      "metadata": {
        "colab": {
          "base_uri": "https://localhost:8080/"
        },
        "id": "1lymo7hS7vzK",
        "outputId": "2847c821-2291-43af-83f7-ffb8f5224a1b"
      },
      "execution_count": null,
      "outputs": [
        {
          "output_type": "stream",
          "name": "stdout",
          "text": [
            "20\n",
            "70\n"
          ]
        }
      ]
    },
    {
      "cell_type": "markdown",
      "source": [
        "Q.4 Write program to create an 1-D NumPy array named <<Your Name>> with evenly\n",
        "spaced 25 numbers from 10 to 100 using linspace(). Print the dimensions of the array,\n",
        "shape, total elements, the data type of each element and total number of bytes consumed\n",
        "by the array. Find the transpose of this array using reshape() attribute. Can we do the same\n",
        "with T attribute?"
      ],
      "metadata": {
        "id": "vQwfx_WL9qTe"
      }
    },
    {
      "cell_type": "code",
      "source": [
        "import numpy as np\n",
        "\n",
        "#create an array\n",
        "naman = np.linspace(10,100,25)\n",
        "print(\"Array:\")\n",
        "print(naman)\n",
        "\n",
        "#dimensions of array\n",
        "print(\"dimensions of array are \", naman.ndim)\n",
        "\n",
        "#shape of array\n",
        "print(\"shape of array is \", naman.shape)\n",
        "\n",
        "#total number of elements in array\n",
        "print(\"total number of elements in array are \", naman.size)\n",
        "\n",
        "#data type of each element\n",
        "print(\"Data type of each element is \", naman.dtype)\n",
        "\n",
        "#number of bytes consumed by array\n",
        "print(\"number of bytes consumed by each array is \", naman.nbytes)\n",
        "\n",
        "#transpose using reshape\n",
        "print(\"Transpose using reshape:\")\n",
        "print(naman.reshape(1,-1))\n",
        "\n",
        "#transpose using .T\n",
        "print(\"Transpose using .T:\")\n",
        "print(naman.T)"
      ],
      "metadata": {
        "colab": {
          "base_uri": "https://localhost:8080/"
        },
        "id": "tUvwqMhp9rUn",
        "outputId": "34a8c2a7-c1ca-4f9d-83aa-d552c49e0231"
      },
      "execution_count": null,
      "outputs": [
        {
          "output_type": "stream",
          "name": "stdout",
          "text": [
            "Array:\n",
            "[ 10.    13.75  17.5   21.25  25.    28.75  32.5   36.25  40.    43.75\n",
            "  47.5   51.25  55.    58.75  62.5   66.25  70.    73.75  77.5   81.25\n",
            "  85.    88.75  92.5   96.25 100.  ]\n",
            "dimensions of array are  1\n",
            "shape of array is  (25,)\n",
            "total number of elements in array are  25\n",
            "Data type of each element is  float64\n",
            "number of bytes consumed by each array is  200\n",
            "Transpose using reshape:\n",
            "[[ 10.    13.75  17.5   21.25  25.    28.75  32.5   36.25  40.    43.75\n",
            "   47.5   51.25  55.    58.75  62.5   66.25  70.    73.75  77.5   81.25\n",
            "   85.    88.75  92.5   96.25 100.  ]]\n",
            "Transpose using .T:\n",
            "[ 10.    13.75  17.5   21.25  25.    28.75  32.5   36.25  40.    43.75\n",
            "  47.5   51.25  55.    58.75  62.5   66.25  70.    73.75  77.5   81.25\n",
            "  85.    88.75  92.5   96.25 100.  ]\n"
          ]
        }
      ]
    },
    {
      "cell_type": "markdown",
      "source": [
        "Q5. Create a 2-D Array of three rows and four columns, named ucs420_<your_name>>\n",
        "with following values – 10, 20, 30, 40, 50, 60, 70, 80, 90, 15, 20, 35. Compute the mean,\n",
        "median, max, min, unique elements. Reshape the array to four rows and three columns and\n",
        "name it as reshaped_ ucs420_<your_name>>. Resize the array to two rows and three\n",
        "columns and name it as resized_ ucs420_<your_name>>"
      ],
      "metadata": {
        "id": "ufje4zwh_jdD"
      }
    },
    {
      "cell_type": "code",
      "source": [
        "import numpy as np\n",
        "\n",
        "#create a 2D array\n",
        "ucs420_naman = np.array([[10,20,30,40],[50,60,70,80],[90,15,20,35]])\n",
        "print(\"Array:\")\n",
        "print(ucs420_naman)\n",
        "\n",
        "#mean\n",
        "print(\"Mean = \",np.mean(ucs420_naman))\n",
        "\n",
        "#median\n",
        "print(\"Median = \",np.median(ucs420_naman))\n",
        "\n",
        "#max\n",
        "print(\"Max = \",np.max(ucs420_naman))\n",
        "\n",
        "#min\n",
        "print(\"Min = \",np.min(ucs420_naman))\n",
        "\n",
        "#unique elements\n",
        "print(\"Unique elements are \",np.unique(ucs420_naman))\n",
        "\n",
        "#reshape into 4 rows and 3 cols\n",
        "reshaped_ucs420_naman = ucs420_naman.reshape(4,3)\n",
        "print(reshaped_ucs420_naman)\n",
        "\n",
        "#resize into 2 rows and 3 cols\n",
        "resized_ucs420_naman = np.resize(ucs420_naman,(2,3))\n",
        "print(resized_ucs420_naman)"
      ],
      "metadata": {
        "colab": {
          "base_uri": "https://localhost:8080/"
        },
        "id": "MH03mxC9_9zS",
        "outputId": "933c1a3d-ec7e-4be9-b880-6bf0e1920731"
      },
      "execution_count": 2,
      "outputs": [
        {
          "output_type": "stream",
          "name": "stdout",
          "text": [
            "Array:\n",
            "[[10 20 30 40]\n",
            " [50 60 70 80]\n",
            " [90 15 20 35]]\n",
            "Mean =  43.333333333333336\n",
            "Median =  37.5\n",
            "Max =  90\n",
            "Min =  10\n",
            "Unique elements are  [10 15 20 30 35 40 50 60 70 80 90]\n",
            "[[10 20 30]\n",
            " [40 50 60]\n",
            " [70 80 90]\n",
            " [15 20 35]]\n",
            "[[10 20 30]\n",
            " [40 50 60]]\n"
          ]
        }
      ]
    }
  ]
}