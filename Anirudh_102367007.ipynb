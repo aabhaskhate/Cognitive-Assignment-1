{
  "cells": [
    {
      "cell_type": "markdown",
      "source": [
        "Write a Python program to print \"Anything You find cool.\""
      ],
      "metadata": {
        "id": "GGUrpb4czA1B"
      }
    },
    {
      "cell_type": "code",
      "source": [
        "print(\"Chess is a game of Gentlemen\")"
      ],
      "metadata": {
        "colab": {
          "base_uri": "https://localhost:8080/"
        },
        "id": "LKXrN4czzMLo",
        "outputId": "f971dcde-c060-4dea-b6fa-9eb3bee03d86"
      },
      "execution_count": 1,
      "outputs": [
        {
          "output_type": "stream",
          "name": "stdout",
          "text": [
            "Chess is a game of Gentlemen\n"
          ]
        }
      ]
    },
    {
      "cell_type": "markdown",
      "source": [
        " 2.1 Write a program to add two numbers and print the result."
      ],
      "metadata": {
        "id": "bHlKrLa7zYaM"
      }
    },
    {
      "cell_type": "code",
      "source": [
        "a=10\n",
        "b=20\n",
        "print(a+b)"
      ],
      "metadata": {
        "colab": {
          "base_uri": "https://localhost:8080/"
        },
        "id": "e5cL22MDzi1L",
        "outputId": "9da8fbad-0a8f-4478-b8ef-f22db971d48e"
      },
      "execution_count": 2,
      "outputs": [
        {
          "output_type": "stream",
          "name": "stdout",
          "text": [
            "30\n"
          ]
        }
      ]
    },
    {
      "cell_type": "markdown",
      "source": [
        " 2.2 Write a program to concatenate two strings and print the result."
      ],
      "metadata": {
        "id": "o1GCLYZVztzZ"
      }
    },
    {
      "cell_type": "code",
      "source": [
        "a= \"Anirudh\"\n",
        "b= \" Sharma\"\n",
        "print(a+b)"
      ],
      "metadata": {
        "colab": {
          "base_uri": "https://localhost:8080/"
        },
        "id": "Be9MfQPDzxXJ",
        "outputId": "3e72d22d-fb25-4a6a-cd46-c4d464397a5f"
      },
      "execution_count": 3,
      "outputs": [
        {
          "output_type": "stream",
          "name": "stdout",
          "text": [
            "Anirudh Sharma\n"
          ]
        }
      ]
    },
    {
      "cell_type": "markdown",
      "source": [
        "2.3 Write a program to concatenate a string and a number and print the result."
      ],
      "metadata": {
        "id": "X6Z807bK0Fpx"
      }
    },
    {
      "cell_type": "code",
      "source": [
        "a=20\n",
        "b=\"My age is \"\n",
        "print(b+str(a))"
      ],
      "metadata": {
        "colab": {
          "base_uri": "https://localhost:8080/"
        },
        "id": "-N0M3Bxk0LIO",
        "outputId": "8f0c5837-08c5-41de-e75a-b83e50c12c48"
      },
      "execution_count": 5,
      "outputs": [
        {
          "output_type": "stream",
          "name": "stdout",
          "text": [
            "My age is 20\n"
          ]
        }
      ]
    },
    {
      "cell_type": "markdown",
      "source": [
        " 3.1 Write a Python program to check if a number is positive, negative, or zero\n",
        "using an\n",
        "if-else statement"
      ],
      "metadata": {
        "id": "zBF8Mxij0azp"
      }
    },
    {
      "cell_type": "code",
      "source": [
        "a=10\n",
        "if a>0:\n",
        " print(\"number is positive\")\n",
        "elif a<0:\n",
        "  print(\"number is negative\")\n",
        "else:\n",
        "  print(\"number is zero\")"
      ],
      "metadata": {
        "colab": {
          "base_uri": "https://localhost:8080/"
        },
        "id": "BhpQ9WH70hHV",
        "outputId": "f2e520a5-3cae-4a92-dd8a-2e4705992ef5"
      },
      "execution_count": 9,
      "outputs": [
        {
          "output_type": "stream",
          "name": "stdout",
          "text": [
            "number is positive\n"
          ]
        }
      ]
    },
    {
      "cell_type": "markdown",
      "source": [
        "3.2 Check if a number is odd or even"
      ],
      "metadata": {
        "id": "BiyhUGUO1rya"
      }
    },
    {
      "cell_type": "code",
      "source": [
        "a=67\n",
        "if a%2==0:\n",
        "  print(\"a is even\")\n",
        "else:\n",
        "  print(\"a is odd\")"
      ],
      "metadata": {
        "colab": {
          "base_uri": "https://localhost:8080/"
        },
        "id": "y4hW3lkS1ugA",
        "outputId": "ed332c4f-ca95-4184-a75a-cd011606c1d9"
      },
      "execution_count": 11,
      "outputs": [
        {
          "output_type": "stream",
          "name": "stdout",
          "text": [
            "a is odd\n"
          ]
        }
      ]
    },
    {
      "cell_type": "markdown",
      "source": [
        " 4.1 Write a program to print numbers from 1 to 10 using a\n",
        "for loop."
      ],
      "metadata": {
        "id": "JoXBH8-E2AjN"
      }
    },
    {
      "cell_type": "code",
      "source": [
        "for i in range(1,11):\n",
        "  print(i)"
      ],
      "metadata": {
        "colab": {
          "base_uri": "https://localhost:8080/"
        },
        "id": "YmZShc9h2FmC",
        "outputId": "173354cb-4309-4577-80df-1e3c7a71019c"
      },
      "execution_count": 13,
      "outputs": [
        {
          "output_type": "stream",
          "name": "stdout",
          "text": [
            "1\n",
            "2\n",
            "3\n",
            "4\n",
            "5\n",
            "6\n",
            "7\n",
            "8\n",
            "9\n",
            "10\n"
          ]
        }
      ]
    },
    {
      "cell_type": "markdown",
      "source": [
        " 4.2 Write a program to print numbers from 1 to 10 using a\n",
        "while loop."
      ],
      "metadata": {
        "id": "RRPBnnnZ2jfV"
      }
    },
    {
      "cell_type": "code",
      "source": [
        "i=1\n",
        "while i<=10:\n",
        "  print(i)\n",
        "  i+=1"
      ],
      "metadata": {
        "colab": {
          "base_uri": "https://localhost:8080/"
        },
        "id": "ZeAJVrzF2pRO",
        "outputId": "c4b0407e-7650-4e08-bd44-5bee9a0be922"
      },
      "execution_count": 15,
      "outputs": [
        {
          "output_type": "stream",
          "name": "stdout",
          "text": [
            "1\n",
            "2\n",
            "3\n",
            "4\n",
            "5\n",
            "6\n",
            "7\n",
            "8\n",
            "9\n",
            "10\n"
          ]
        }
      ]
    },
    {
      "cell_type": "markdown",
      "source": [
        " 4.3 Write a program to calculate the sum of numbers from 1 to 100 using a loop."
      ],
      "metadata": {
        "id": "H2s8BfTs3QI0"
      }
    },
    {
      "cell_type": "code",
      "source": [
        "total=0\n",
        "for i in range(1,101):\n",
        "    total += i\n",
        "print (total)"
      ],
      "metadata": {
        "colab": {
          "base_uri": "https://localhost:8080/"
        },
        "id": "e_BCT-eC3bKF",
        "outputId": "e921ba4a-ad72-430b-d901-b3cf29bd0e1c"
      },
      "execution_count": 20,
      "outputs": [
        {
          "output_type": "stream",
          "name": "stdout",
          "text": [
            "5050\n"
          ]
        }
      ]
    },
    {
      "cell_type": "markdown",
      "source": [
        " 5.1 Create a list of 5 numbers. Write a program to find the largest and smallest\n",
        "numbers in the list."
      ],
      "metadata": {
        "id": "bFm0Bkqy47ha"
      }
    },
    {
      "cell_type": "code",
      "source": [
        "a=[1,55,3,65,22]\n",
        "print(max(a))\n",
        "print(min(a))"
      ],
      "metadata": {
        "colab": {
          "base_uri": "https://localhost:8080/"
        },
        "id": "vNT8ICzN4_I_",
        "outputId": "dcc663af-2a26-4cf1-c517-8e8cb723aef9"
      },
      "execution_count": 21,
      "outputs": [
        {
          "output_type": "stream",
          "name": "stdout",
          "text": [
            "65\n",
            "1\n"
          ]
        }
      ]
    },
    {
      "cell_type": "markdown",
      "source": [
        " 5.2 Create a dictionary with at least 3 key-value pairs. Write a program to retrieve\n",
        "the value of a given key."
      ],
      "metadata": {
        "id": "sDuVZF7e5W8m"
      }
    },
    {
      "cell_type": "code",
      "source": [
        "dictionary = {\n",
        "    \"name\":\"Anirudh\",\n",
        "    \"age\": 20,\n",
        "    \"city\": \"Patiala\"\n",
        "    }\n",
        "key = \"name\"\n",
        "print( dictionary.get(key))"
      ],
      "metadata": {
        "colab": {
          "base_uri": "https://localhost:8080/"
        },
        "id": "-SGlrrRX5a_b",
        "outputId": "f01e6275-e458-4e4e-b750-50bd3b9d8f3f"
      },
      "execution_count": 31,
      "outputs": [
        {
          "output_type": "stream",
          "name": "stdout",
          "text": [
            "Anirudh\n"
          ]
        }
      ]
    },
    {
      "cell_type": "markdown",
      "source": [
        " 5.3 Write a program to sort a list of numbers in ascending and descending order."
      ],
      "metadata": {
        "id": "l0b2S2QW9Ao5"
      }
    },
    {
      "cell_type": "code",
      "source": [
        "a=[5,14,65,23,2]\n",
        "a.sort()\n",
        "print(a)\n",
        "a.sort(reverse=True)\n",
        "print(a)"
      ],
      "metadata": {
        "colab": {
          "base_uri": "https://localhost:8080/"
        },
        "id": "83oAVTSS9EgV",
        "outputId": "5d41a8f5-b91c-4a13-e030-f1856e4c0af5"
      },
      "execution_count": 44,
      "outputs": [
        {
          "output_type": "stream",
          "name": "stdout",
          "text": [
            "[2, 5, 14, 23, 65]\n",
            "[65, 23, 14, 5, 2]\n"
          ]
        }
      ]
    },
    {
      "cell_type": "markdown",
      "source": [
        " 5.4 Write a program to merge two dictionaries into one."
      ],
      "metadata": {
        "id": "EklaYIKg_qcz"
      }
    },
    {
      "cell_type": "code",
      "source": [
        "dict1={\"a\":1, \"b\":5}\n",
        "dict2={\"c\":8, \"d\":10}\n",
        "merged_dict={**dict1,**dict2}\n",
        "print(merged_dict)"
      ],
      "metadata": {
        "colab": {
          "base_uri": "https://localhost:8080/"
        },
        "id": "tlOS5UYb_wT9",
        "outputId": "1d3b0e85-a228-44e7-8891-1b9aaf601a8a"
      },
      "execution_count": 56,
      "outputs": [
        {
          "output_type": "stream",
          "name": "stdout",
          "text": [
            "{'a': 1, 'b': 5, 'c': 8, 'd': 10}\n"
          ]
        }
      ]
    },
    {
      "cell_type": "markdown",
      "source": [
        "6.1 Write a program to count the number of vowels in a given string."
      ],
      "metadata": {
        "id": "sEOlKCXZBLQO"
      }
    },
    {
      "cell_type": "code",
      "source": [
        "string = \"Hello World\"\n",
        "vowels = \"aeiouAEIOU\"\n",
        "count = sum(1 for char in string if char in vowels)\n",
        "print(\"Number of vowels:\", count)"
      ],
      "metadata": {
        "colab": {
          "base_uri": "https://localhost:8080/"
        },
        "id": "SeUsziG_BS3t",
        "outputId": "1b7c676d-ced3-4fd2-97c9-0645cde2a2c2"
      },
      "execution_count": 57,
      "outputs": [
        {
          "output_type": "stream",
          "name": "stdout",
          "text": [
            "Number of vowels: 3\n"
          ]
        }
      ]
    },
    {
      "cell_type": "markdown",
      "source": [
        "6.2 Write a program to reverse a string and print it."
      ],
      "metadata": {
        "id": "thGDRpdsBniN"
      }
    },
    {
      "cell_type": "code",
      "source": [
        "string = \"Anirudh\"\n",
        "print(string[::-1])"
      ],
      "metadata": {
        "colab": {
          "base_uri": "https://localhost:8080/"
        },
        "id": "z1-W_trDCTBL",
        "outputId": "9e8d344f-18e2-4ffe-a5f9-e564dd93fa70"
      },
      "execution_count": 59,
      "outputs": [
        {
          "output_type": "stream",
          "name": "stdout",
          "text": [
            "hdurinA\n"
          ]
        }
      ]
    },
    {
      "cell_type": "markdown",
      "source": [
        "6.3 Write a program to check if a string is a palindrome."
      ],
      "metadata": {
        "id": "ptJn3LaNCXjy"
      }
    },
    {
      "cell_type": "code",
      "source": [
        "string = \"madam\"\n",
        "if string == string[::-1]:\n",
        "    print(\"The string is a palindrome.\")\n",
        "else:\n",
        "    print(\"The string is not a palindrome.\")"
      ],
      "metadata": {
        "colab": {
          "base_uri": "https://localhost:8080/"
        },
        "id": "-4AfoInyCZdL",
        "outputId": "f92f0a3b-000f-4f0c-db63-0c0442488b9c"
      },
      "execution_count": 60,
      "outputs": [
        {
          "output_type": "stream",
          "name": "stdout",
          "text": [
            "The string is a palindrome.\n"
          ]
        }
      ]
    },
    {
      "cell_type": "markdown",
      "source": [
        " 7.1 Write a program to create a text file, write some text into it, and then read and\n",
        "print the content."
      ],
      "metadata": {
        "id": "I-MOj3jcElsC"
      }
    },
    {
      "cell_type": "code",
      "source": [
        "with open(\"sample.txt\", \"w\") as file:\n",
        "    file.write(\"My name is Anirudh\")\n",
        "with open(\"sample.txt\", \"r\") as file:\n",
        "    content = file.read()\n",
        "print(\"File content:\", content)"
      ],
      "metadata": {
        "colab": {
          "base_uri": "https://localhost:8080/"
        },
        "id": "6AjkeyJZEsPX",
        "outputId": "49f36b85-4524-43b6-893e-2ce88c36cd91"
      },
      "execution_count": 66,
      "outputs": [
        {
          "output_type": "stream",
          "name": "stdout",
          "text": [
            "File content: My name is Anirudh\n"
          ]
        }
      ]
    },
    {
      "cell_type": "markdown",
      "source": [
        " 7.2 Write a program to append text to an existing file and print the updated\n",
        "content."
      ],
      "metadata": {
        "id": "oHWDX0XiFrGq"
      }
    },
    {
      "cell_type": "code",
      "source": [
        "with open(\"sample.txt\", \"a\") as file:\n",
        "    file.write(\" This is cognitive computing\")\n",
        "with open(\"sample.txt\", \"r\") as file:\n",
        "    content = file.read()\n",
        "print(\"Updated content:\", content)"
      ],
      "metadata": {
        "colab": {
          "base_uri": "https://localhost:8080/"
        },
        "id": "HWJxpp2DFusA",
        "outputId": "fe50e141-829c-4e10-ffe4-9fd699309507"
      },
      "execution_count": 67,
      "outputs": [
        {
          "output_type": "stream",
          "name": "stdout",
          "text": [
            "Updated content: My name is Anirudh This is cognitive computing\n"
          ]
        }
      ]
    },
    {
      "cell_type": "markdown",
      "source": [
        " 7.3 Write a program to count the number of lines in a text file"
      ],
      "metadata": {
        "id": "oIWsfEzbGUP4"
      }
    },
    {
      "cell_type": "code",
      "source": [
        "with open(\"sample.txt\", \"r\") as file:\n",
        "    lines = file.readlines()\n",
        "print(\"Number of lines:\", len(lines))"
      ],
      "metadata": {
        "colab": {
          "base_uri": "https://localhost:8080/"
        },
        "id": "E1cOZNS0GXni",
        "outputId": "69ca5b61-4221-444f-9987-b345dfcb3bc4"
      },
      "execution_count": 68,
      "outputs": [
        {
          "output_type": "stream",
          "name": "stdout",
          "text": [
            "Number of lines: 1\n"
          ]
        }
      ]
    },
    {
      "cell_type": "markdown",
      "source": [
        " 8.1 Write a program to handle division by zero using a\n",
        "try-except block."
      ],
      "metadata": {
        "id": "pSWvlcKDGc5g"
      }
    },
    {
      "cell_type": "code",
      "source": [
        "try:\n",
        "    result = 10 / 0\n",
        "except ZeroDivisionError:\n",
        "    print(\"Division by zero is not allowed.\")"
      ],
      "metadata": {
        "colab": {
          "base_uri": "https://localhost:8080/"
        },
        "id": "Gq6hW-2vGg-9",
        "outputId": "276f859d-cc75-402f-dd37-1dc5bfdfd7b8"
      },
      "execution_count": 69,
      "outputs": [
        {
          "output_type": "stream",
          "name": "stdout",
          "text": [
            "Division by zero is not allowed.\n"
          ]
        }
      ]
    },
    {
      "cell_type": "markdown",
      "source": [
        " 8.2 Write a program to handle invalid input (e.g., when the user enters a string\n",
        "instead of a number)"
      ],
      "metadata": {
        "id": "0fwYwLLtGmAC"
      }
    },
    {
      "cell_type": "code",
      "source": [
        "try:\n",
        "    number = int(input(\"Enter a number: \"))\n",
        "    print(\"You entered:\", number)\n",
        "except ValueError:\n",
        "    print(\"Invalid input! Please enter a number.\")"
      ],
      "metadata": {
        "colab": {
          "base_uri": "https://localhost:8080/"
        },
        "id": "RH6vSJ_NGr8H",
        "outputId": "d3d24c6c-df11-4dae-ce49-75efafc846cc"
      },
      "execution_count": 70,
      "outputs": [
        {
          "output_type": "stream",
          "name": "stdout",
          "text": [
            "Enter a number: 5\n",
            "You entered: 5\n"
          ]
        }
      ]
    },
    {
      "cell_type": "markdown",
      "source": [
        " 8.3 Write a program to demonstrate the use of\n",
        "finally in exception handling."
      ],
      "metadata": {
        "id": "JG38mLffG1Aq"
      }
    },
    {
      "cell_type": "code",
      "source": [
        "try:\n",
        "    result = 10 / 2\n",
        "finally:\n",
        "    print(\"This block executes no matter what.\")"
      ],
      "metadata": {
        "colab": {
          "base_uri": "https://localhost:8080/"
        },
        "id": "Ps0QIRuEG4Ey",
        "outputId": "7d072a9f-db7d-4a3e-dcf4-4bcad784c24b"
      },
      "execution_count": 71,
      "outputs": [
        {
          "output_type": "stream",
          "name": "stdout",
          "text": [
            "This block executes no matter what.\n"
          ]
        }
      ]
    },
    {
      "cell_type": "markdown",
      "source": [
        " 9.1 Write a program to generate 5 random numbers between 1 and 100 and print\n",
        "them."
      ],
      "metadata": {
        "id": "5rxSUDZYG9H-"
      }
    },
    {
      "cell_type": "code",
      "source": [
        "import random\n",
        "print(\"Random numbers:\", [random.randint(1, 100) for _ in range(5)])"
      ],
      "metadata": {
        "colab": {
          "base_uri": "https://localhost:8080/"
        },
        "id": "S1JhNEIMHJT2",
        "outputId": "feb4d47d-cb76-4853-ba60-ccad7369c347"
      },
      "execution_count": 73,
      "outputs": [
        {
          "output_type": "stream",
          "name": "stdout",
          "text": [
            "Random numbers: [95, 23, 8, 49, 5]\n"
          ]
        }
      ]
    },
    {
      "cell_type": "markdown",
      "source": [
        " 9.2 Write a program to generate a random number and check if it is prime."
      ],
      "metadata": {
        "id": "05vMojmzHUqH"
      }
    },
    {
      "cell_type": "code",
      "source": [
        "number = random.randint(1, 100)\n",
        "is_prime = all(number % i != 0 for i in range(2, int(number**0.5) + 1)) and number > 1\n",
        "print(f\"Random number {number} is prime:\", is_prime)\n"
      ],
      "metadata": {
        "colab": {
          "base_uri": "https://localhost:8080/"
        },
        "id": "34Ss5TAOHaAF",
        "outputId": "0dbd477e-2a98-4d59-aadb-28c8096cfb87"
      },
      "execution_count": 74,
      "outputs": [
        {
          "output_type": "stream",
          "name": "stdout",
          "text": [
            "Random number 65 is prime: False\n"
          ]
        }
      ]
    },
    {
      "cell_type": "markdown",
      "source": [
        " 9.3 Write a program to simulate rolling a six-sided die."
      ],
      "metadata": {
        "id": "WF0aUSY5HhYu"
      }
    },
    {
      "cell_type": "code",
      "source": [
        "print(\"Rolled die:\", random.randint(1, 6))"
      ],
      "metadata": {
        "colab": {
          "base_uri": "https://localhost:8080/"
        },
        "id": "kXy_oPQ6HkyD",
        "outputId": "0c757f1a-226e-402f-c799-a9d33d817137"
      },
      "execution_count": 75,
      "outputs": [
        {
          "output_type": "stream",
          "name": "stdout",
          "text": [
            "Rolled die: 3\n"
          ]
        }
      ]
    },
    {
      "cell_type": "markdown",
      "source": [
        "9.4 Write a program to shuffle a list of numbers."
      ],
      "metadata": {
        "id": "8QYV8YQJHrun"
      }
    },
    {
      "cell_type": "code",
      "source": [
        "numbers = [1, 2, 3, 4, 5]\n",
        "random.shuffle(numbers)\n",
        "print(\"Shuffled list:\", numbers)"
      ],
      "metadata": {
        "colab": {
          "base_uri": "https://localhost:8080/"
        },
        "id": "0FG5_JFJHx2z",
        "outputId": "f5783337-02e4-4316-a4c2-7f72acc5344a"
      },
      "execution_count": 76,
      "outputs": [
        {
          "output_type": "stream",
          "name": "stdout",
          "text": [
            "Shuffled list: [2, 5, 3, 4, 1]\n"
          ]
        }
      ]
    },
    {
      "cell_type": "markdown",
      "source": [
        " 9.5 Write a program to randomly select an item from a list."
      ],
      "metadata": {
        "id": "YQtaSYiDICiO"
      }
    },
    {
      "cell_type": "code",
      "source": [
        "print(\"Random item:\", random.choice(numbers))"
      ],
      "metadata": {
        "colab": {
          "base_uri": "https://localhost:8080/"
        },
        "id": "VqlAbo_FIFYQ",
        "outputId": "4a40d647-f135-435a-c728-105452eeaca2"
      },
      "execution_count": 77,
      "outputs": [
        {
          "output_type": "stream",
          "name": "stdout",
          "text": [
            "Random item: 2\n"
          ]
        }
      ]
    },
    {
      "cell_type": "markdown",
      "source": [
        "9.6 Write a program to generate a random password of given length."
      ],
      "metadata": {
        "id": "PsbO5lJZINTV"
      }
    },
    {
      "cell_type": "code",
      "source": [
        "length = 8\n",
        "password = ''.join(random.choices(\"abcdefghijklmnopqrstuvwxyz\", k=length))\n",
        "print(\"Random password:\", password)\n"
      ],
      "metadata": {
        "colab": {
          "base_uri": "https://localhost:8080/"
        },
        "id": "MMNqVnvQIOOi",
        "outputId": "a7780faf-d63c-4925-ef88-745c091cdc7b"
      },
      "execution_count": 81,
      "outputs": [
        {
          "output_type": "stream",
          "name": "stdout",
          "text": [
            "Random password: pjsvcxka\n"
          ]
        }
      ]
    },
    {
      "cell_type": "markdown",
      "source": [
        "9.7 Write a program to pick a random card from a standard deck of 52 cards."
      ],
      "metadata": {
        "id": "HMALGYQYIb4s"
      }
    },
    {
      "cell_type": "code",
      "source": [
        "suits = [\"Hearts\", \"Diamonds\", \"Clubs\", \"Spades\"]\n",
        "ranks = [\"2\", \"3\", \"4\", \"5\", \"6\", \"7\", \"8\", \"9\", \"10\", \"Jack\", \"Queen\", \"King\", \"Ace\"]\n",
        "card = f\"{random.choice(ranks)} of {random.choice(suits)}\"\n",
        "print(\"Random card:\", card)"
      ],
      "metadata": {
        "colab": {
          "base_uri": "https://localhost:8080/"
        },
        "id": "6xMRHfmWIco4",
        "outputId": "7f65a29e-60b8-4114-f39d-e99eda436005"
      },
      "execution_count": 82,
      "outputs": [
        {
          "output_type": "stream",
          "name": "stdout",
          "text": [
            "Random card: 7 of Hearts\n"
          ]
        }
      ]
    },
    {
      "cell_type": "markdown",
      "source": [
        "10.1 Write a program to accept two numbers as command-line arguments, add\n",
        "them, and print the result."
      ],
      "metadata": {
        "id": "Pu9ciuU-Iihc"
      }
    },
    {
      "cell_type": "code",
      "source": [
        "\n",
        "import sys\n",
        "\n",
        "if len(sys.argv) != 3:\n",
        "  print(\"Usage: python script_name.py  \")\n",
        "  sys.exit(1)\n",
        "number1 = float(sys.argv[1])\n",
        "number2 = float(sys.argv[2])\n",
        "result = number1 + number2\n",
        "print(f'Sum of {number1} and {number2} is {result}')"
      ],
      "metadata": {
        "colab": {
          "base_uri": "https://localhost:8080/"
        },
        "id": "T-FT8C_YIl0e",
        "outputId": "da56e32f-d4fa-468c-fbfc-f3980e477bc0"
      },
      "execution_count": 9,
      "outputs": [
        {
          "output_type": "stream",
          "name": "stdout",
          "text": [
            "Error: Please enter valid numbers.\n"
          ]
        }
      ]
    },
    {
      "cell_type": "markdown",
      "source": [
        " 10.2 Write a program to accept a string as a command-line argument and print its\n",
        "length."
      ],
      "metadata": {
        "id": "FZefRrztI6p4"
      }
    },
    {
      "cell_type": "code",
      "source": [
        "\n",
        "import sys\n",
        "\n",
        "if (len(sys.argv) != 2):\n",
        "  print(\"Usage: pyhton script_name.py \")\n",
        "  sys.exit(1)\n",
        "input_string = sys.argv[1]\n",
        "string_length = len(input_string)\n",
        "print(f\"The length of the string '{input_string}' is {string_length}\")"
      ],
      "metadata": {
        "id": "6FYlmlYrI-Gs"
      },
      "execution_count": 3,
      "outputs": []
    },
    {
      "cell_type": "markdown",
      "source": [
        " 11.1 Write a program to use the\n",
        "math library to calculate the square root of a given\n",
        "number."
      ],
      "metadata": {
        "id": "_VQbQhMaJQ9N"
      }
    },
    {
      "cell_type": "code",
      "source": [
        "import math\n",
        "import datetime\n",
        "import os\n",
        "number = 16\n",
        "print(\"Square root:\", math.sqrt(number))"
      ],
      "metadata": {
        "colab": {
          "base_uri": "https://localhost:8080/"
        },
        "id": "G69J1lfRJXlN",
        "outputId": "8a20dfff-9682-467d-e8ae-af36bcf6a659"
      },
      "execution_count": 92,
      "outputs": [
        {
          "output_type": "stream",
          "name": "stdout",
          "text": [
            "Square root: 4.0\n"
          ]
        }
      ]
    },
    {
      "cell_type": "markdown",
      "source": [
        " 11.2 Write a program to use the\n",
        "datetime library to print the current date and time"
      ],
      "metadata": {
        "id": "VuzrQ8-kJfcq"
      }
    },
    {
      "cell_type": "code",
      "source": [
        "print(\"Current date and time:\", datetime.datetime.now())"
      ],
      "metadata": {
        "colab": {
          "base_uri": "https://localhost:8080/"
        },
        "id": "cveQaLFoJjID",
        "outputId": "e0d18866-c48e-45b8-a4b0-ae0435af4da4"
      },
      "execution_count": 93,
      "outputs": [
        {
          "output_type": "stream",
          "name": "stdout",
          "text": [
            "Current date and time: 2025-01-12 06:14:35.435677\n"
          ]
        }
      ]
    },
    {
      "cell_type": "markdown",
      "source": [
        "11.3 Write a program to use the\n",
        "os library to list all files in the current directory"
      ],
      "metadata": {
        "id": "RxAcVhWOJskG"
      }
    },
    {
      "cell_type": "code",
      "source": [
        "print(\"Files in the current directory:\", os.listdir(\".\"))"
      ],
      "metadata": {
        "colab": {
          "base_uri": "https://localhost:8080/"
        },
        "id": "-8hgryAUJvAU",
        "outputId": "e4b3804d-dd55-421f-a341-876da78b52a3"
      },
      "execution_count": 94,
      "outputs": [
        {
          "output_type": "stream",
          "name": "stdout",
          "text": [
            "Files in the current directory: ['.config', 'sample.txt', 'sample_data']\n"
          ]
        }
      ]
    }
  ],
  "metadata": {
    "colab": {
      "name": "Welcome To Colab",
      "toc_visible": true,
      "provenance": []
    },
    "kernelspec": {
      "display_name": "Python 3",
      "name": "python3"
    }
  },
  "nbformat": 4,
  "nbformat_minor": 0
}